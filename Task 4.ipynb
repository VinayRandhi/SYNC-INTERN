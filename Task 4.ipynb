{
 "cells": [
  {
   "cell_type": "markdown",
   "id": "1b39018b",
   "metadata": {},
   "source": [
    "## Task 4"
   ]
  },
  {
   "cell_type": "markdown",
   "id": "dcdf1afe",
   "metadata": {},
   "source": [
    "Build your own Chatbot"
   ]
  },
  {
   "cell_type": "code",
   "execution_count": 1,
   "id": "fd54c86a",
   "metadata": {},
   "outputs": [],
   "source": [
    "#Importing required libraries\n",
    "\n",
    "from chatterbot import ChatBot\n",
    "from chatterbot.trainers import ListTrainer"
   ]
  },
  {
   "cell_type": "code",
   "execution_count": 2,
   "id": "4d0bb893",
   "metadata": {},
   "outputs": [
    {
     "name": "stderr",
     "output_type": "stream",
     "text": [
      "[nltk_data] Downloading package averaged_perceptron_tagger to\n",
      "[nltk_data]     /Users/vinayrandhi/nltk_data...\n",
      "[nltk_data]   Package averaged_perceptron_tagger is already up-to-\n",
      "[nltk_data]       date!\n",
      "[nltk_data] Downloading package punkt to\n",
      "[nltk_data]     /Users/vinayrandhi/nltk_data...\n",
      "[nltk_data]   Package punkt is already up-to-date!\n",
      "[nltk_data] Downloading package stopwords to\n",
      "[nltk_data]     /Users/vinayrandhi/nltk_data...\n",
      "[nltk_data]   Package stopwords is already up-to-date!\n"
     ]
    }
   ],
   "source": [
    "#Chat bot creation\n",
    "\n",
    "bot = ChatBot (name='John Wick', read_only=True,logic_adapers=['chatterbot. logic.MathematicalEvaluation',\n",
    "'chatterbot. logic. BestMatch'])"
   ]
  },
  {
   "cell_type": "code",
   "execution_count": 3,
   "id": "df0552a1",
   "metadata": {},
   "outputs": [
    {
     "name": "stdout",
     "output_type": "stream",
     "text": [
      "Training ai.yml: [####################] 100%\n",
      "Training botprofile.yml: [####################] 100%\n",
      "Training computers.yml: [####################] 100%\n",
      "Training conversations.yml: [####################] 100%\n",
      "Training emotion.yml: [####################] 100%\n",
      "Training food.yml: [####################] 100%\n",
      "Training gossip.yml: [####################] 100%\n",
      "Training greetings.yml: [####################] 100%\n",
      "Training health.yml: [####################] 100%\n",
      "Training history.yml: [####################] 100%\n",
      "Training humor.yml: [####################] 100%\n",
      "Training literature.yml: [####################] 100%\n",
      "Training money.yml: [####################] 100%\n",
      "Training movies.yml: [####################] 100%\n",
      "Training politics.yml: [####################] 100%\n",
      "Training psychology.yml: [####################] 100%\n",
      "Training science.yml: [####################] 100%\n",
      "Training sports.yml: [####################] 100%\n",
      "Training trivia.yml: [####################] 100%\n"
     ]
    }
   ],
   "source": [
    "#Training chatbot\n",
    "\n",
    "from chatterbot.trainers import ChatterBotCorpusTrainer\n",
    "corpus_trainer = ChatterBotCorpusTrainer(bot)\n",
    "corpus_trainer.train('chatterbot.corpus.english')"
   ]
  },
  {
   "cell_type": "code",
   "execution_count": 4,
   "id": "08ff4777",
   "metadata": {},
   "outputs": [
    {
     "name": "stdout",
     "output_type": "stream",
     "text": [
      "List Trainer: [####################] 100%\n"
     ]
    }
   ],
   "source": [
    "#Adding some responses\n",
    "\n",
    "responses = [\"Hey there! What can I help you with today?\",\n",
    "\"Oops, didn't quite catch that. Mind saying it again in a different way?\",\n",
    "\"I'm all ears! Tell me more about what you need.\",\n",
    "\"Thanks for reaching out! I'll get back to you as soon as I can.\",\n",
    "\"Haha, sorry, that one's a bit beyond my programming. Let's try something else!\",\n",
    "\"Hold on tight for just a sec, I'm looking that up for you now!\",\n",
    "\"Anything else you need help with today? I'm happy to keep chatting!\"]\n",
    "\n",
    "\n",
    "trainer = ListTrainer(bot)\n",
    "\n",
    "trainer.train(responses)"
   ]
  },
  {
   "cell_type": "code",
   "execution_count": 5,
   "id": "5dde7350",
   "metadata": {},
   "outputs": [
    {
     "name": "stdout",
     "output_type": "stream",
     "text": [
      "Hi! I'm a chatbot. How're you doing?\n",
      "> i'm fine\n",
      "glad to hear that.\n",
      "> how're you?\n",
      "always cool.\n",
      "> quit\n",
      "Thanks for chatting with me! Have an awesome day!\n"
     ]
    }
   ],
   "source": [
    "#Function to run chatbot\n",
    "\n",
    "print(\"Hi! I'm a chatbot. How're you doing?\")\n",
    "\n",
    "while True:\n",
    "    user_input = input('> ')\n",
    "    if user_input.lower() not in ['stop','quit']:\n",
    "        print(bot.get_response(user_input))\n",
    "    elif user_input.lower() in ['stop','quit']:\n",
    "        print(\"Thanks for chatting with me! Have an awesome day!\")\n",
    "        break\n",
    "    elif ['info','information'] in user_input.lower().split():\n",
    "        print()"
   ]
  },
  {
   "cell_type": "code",
   "execution_count": null,
   "id": "bca6dc86",
   "metadata": {},
   "outputs": [],
   "source": []
  }
 ],
 "metadata": {
  "kernelspec": {
   "display_name": "Python 3 (ipykernel)",
   "language": "python",
   "name": "python3"
  },
  "language_info": {
   "codemirror_mode": {
    "name": "ipython",
    "version": 3
   },
   "file_extension": ".py",
   "mimetype": "text/x-python",
   "name": "python",
   "nbconvert_exporter": "python",
   "pygments_lexer": "ipython3",
   "version": "3.9.12"
  }
 },
 "nbformat": 4,
 "nbformat_minor": 5
}
