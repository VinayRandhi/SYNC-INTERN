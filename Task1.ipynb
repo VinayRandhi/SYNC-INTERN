{
 "cells": [
  {
   "cell_type": "markdown",
   "id": "10e2699c",
   "metadata": {},
   "source": [
    "## Task 1"
   ]
  },
  {
   "cell_type": "markdown",
   "id": "d0730ae1",
   "metadata": {},
   "source": [
    "The objective of our project is to implement an\n",
    "alarm clock using Python.\n",
    "\n",
    "Python consists of some very innovative libraries\n",
    "such as datetime and tkinter which help us to build\n",
    "the project using the current date and time as well\n",
    "as to provide a user interface to set the alarm\n",
    "according to the requirement in 24-hour format."
   ]
  },
  {
   "cell_type": "code",
   "execution_count": null,
   "id": "5f2fb117",
   "metadata": {
    "scrolled": true
   },
   "outputs": [],
   "source": [
    "#Importing Required Libraries\n",
    "\n",
    "from tkinter import *              #For GUI\n",
    "from datetime import datetime      #Date time\n",
    "from pygame import mixer           #For importing sound\n",
    "from tkinter import messagebox     #For Pop-up window"
   ]
  },
  {
   "cell_type": "code",
   "execution_count": null,
   "id": "cc2d5c3b",
   "metadata": {},
   "outputs": [],
   "source": [
    "#Variable declaration for GUI\n",
    "window = Tk()\n",
    "\n",
    "#Window Title\n",
    "window.title('Alarm clock')\n",
    "\n",
    "#Window size\n",
    "window.geometry('330x350')\n",
    "\n",
    "#Mixer initiation for sound \n",
    "mixer.init()\n",
    "\n",
    "#Define Function to display Current time in the GUI\n",
    "def time():\n",
    "    string = datetime.now().strftime('%H:%M:%S')\n",
    "    lbl.config(text=string)\n",
    "    lbl.after(1000, time)\n",
    "    \n",
    "\n",
    "\n",
    "lbl = Label(window,font=('Avenir Next', 15))\n",
    "\n",
    "lbl.place(relx=0.5,rely=0.3,anchor='center')\n",
    "\n",
    "#Current time function call\n",
    "time() \n",
    "\n",
    "#Create text box for the desired time input\n",
    "alarm_time_input = Entry(window,font=('Avenir Next',13),width=8)\n",
    "alarm_time_input.place(relx=0.5,rely=0.6,anchor='center')\n",
    "\n",
    "#Main Function to define conditions for working\n",
    "def alarm():\n",
    "    a = alarm_time_input.get()                     #Store alarm_time_input value variable 'a'.\n",
    "    b = datetime.now().strftime('%H:%M:%S')        #Store current time variable in variable 'b'.\n",
    "    \n",
    "    #Loop to update time.\n",
    "    while str(a)!= b:\n",
    "        b = datetime.now().strftime('%H:%M:%S')    #Update variable b until the given condition is met.\n",
    "        \n",
    "    if str(a)==b:\n",
    "        mixer.music.load('Alarm Clock Alarm.mp3')  #Load music.\n",
    "        mixer.music.play(loops=5)\n",
    "        message = messagebox.showinfo(\"showinfo\", \"Alarm Triggered\")  #Open popup when the condition is met.\n",
    "        \n",
    "        #Condition inside the popup window\n",
    "        if message == 'ok':\n",
    "            mixer.music.stop()                 \n",
    "    \n",
    "\n",
    "#Interface Labelling   \n",
    "Header = Label(window,text='Alarm clock',font = ('Avenir Next',35,'bold')) \n",
    "Header.place(relx=0.5,rely=0.1,anchor='center')\n",
    "\n",
    "time_input_label = Label(window,text = 'Set alarm at (HH:MM:SS):',font = ('Avenir Next',20))\n",
    "time_input_label.place(relx=0.5,rely=0.5,anchor='center')\n",
    "\n",
    "current_time = Label(window,text = 'Current time ',font = ('Avenir Next',15))\n",
    "current_time.place(relx=0.5,rely=0.23,anchor='center')\n",
    "\n",
    "#Create button to initiate the main loop 'alarm' when triggered\n",
    "submit = Button(window,text='Set',font = ('Avenir Next',13),command=alarm)\n",
    "submit.place(relx=0.5,rely=0.7,anchor='center')\n",
    "\n",
    "\n",
    "\n",
    "window.mainloop()   "
   ]
  }
 ],
 "metadata": {
  "kernelspec": {
   "display_name": "Python 3 (ipykernel)",
   "language": "python",
   "name": "python3"
  },
  "language_info": {
   "codemirror_mode": {
    "name": "ipython",
    "version": 3
   },
   "file_extension": ".py",
   "mimetype": "text/x-python",
   "name": "python",
   "nbconvert_exporter": "python",
   "pygments_lexer": "ipython3",
   "version": "3.9.12"
  }
 },
 "nbformat": 4,
 "nbformat_minor": 5
}
