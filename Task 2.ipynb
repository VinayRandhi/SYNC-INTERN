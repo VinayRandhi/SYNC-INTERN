{
 "cells": [
  {
   "cell_type": "markdown",
   "id": "79d516c0",
   "metadata": {},
   "source": [
    "## Task 2"
   ]
  },
  {
   "cell_type": "markdown",
   "id": "45a8c86f",
   "metadata": {},
   "source": [
    "OTP Verification is the process of verifying a user by\n",
    "sending a unique password so that the user can be\n",
    "verified before completing a registration or payment\n",
    "process. Most of the time, we get an OTP when we\n",
    "make an online payment, or when we forget our\n",
    "password, or when creating an account on any online\n",
    "platform. Thus, the sole purpose of an OTP is to verify\n",
    "the identity of a user by sending a unique password.\n",
    "We can easily create an application for the task of OTP\n",
    "verification using Python by following the steps\n",
    "mentioned below:\n",
    "1. First, create a 6-digit random number.\n",
    "2. Then store the number in a variable\n",
    "3. Then we need to write a program to send emails.\n",
    "4. When sending email, we need to use OTP as a\n",
    "message.\n",
    "5. Finally, we need to request two user inputs; first for\n",
    "the user’s email and then for the OTP that the user has\n",
    "received.\n",
    "\n",
    "So this is the complete process of creating an OTP\n",
    "verification application using Python."
   ]
  },
  {
   "cell_type": "code",
   "execution_count": null,
   "id": "0f8d23be",
   "metadata": {},
   "outputs": [],
   "source": [
    "#Importing required libraries\n",
    "\n",
    "import numpy as np    \n",
    "import random\n",
    "import smtplib"
   ]
  },
  {
   "cell_type": "code",
   "execution_count": null,
   "id": "0fc268cb",
   "metadata": {},
   "outputs": [],
   "source": [
    "password = random.randint(100000,999999)  #Generating 6-digit random number and storing it in a variable\n",
    "\n",
    "# Set up the email message\n",
    "sender_email = \"Sender's mail id\"\n",
    "receiver_email = \"Receivers mail id\"\n",
    "message = 'Hello, the OTP is '+str(password)\n",
    "\n",
    "# Connect to the SMTP server\n",
    "smtp_server = 'smtp.office365.com'\n",
    "smtp_port = 587\n",
    "smtp_username = \"Sender's mail id\"          #E-Mail id Of sender\n",
    "smtp_password = \"Sender's mail id password\" #Password of The sender's E-Mail id\n",
    "\n",
    "smtp_connection = smtplib.SMTP(smtp_server, smtp_port)\n",
    "smtp_connection.starttls()                              #Initiating the connection\n",
    "smtp_connection.login(smtp_username, smtp_password)     #Logging into Sender's mail id\n",
    "\n",
    "# Send the email message\n",
    "smtp_connection.sendmail(sender_email, receiver_email, message)\n",
    "\n",
    "# Disconnect from the SMTP server\n",
    "smtp_connection.quit()\n",
    "\n",
    "print('Email sent successfully!')\n",
    "\n",
    "otp_input = int(input('Enter the OTP: '))  #OTP input\n",
    "\n",
    "if otp_input == password:\n",
    "    print('OTP is correct!')\n",
    "else:\n",
    "    print('OTP is incorrect!')"
   ]
  }
 ],
 "metadata": {
  "kernelspec": {
   "display_name": "Python 3 (ipykernel)",
   "language": "python",
   "name": "python3"
  },
  "language_info": {
   "codemirror_mode": {
    "name": "ipython",
    "version": 3
   },
   "file_extension": ".py",
   "mimetype": "text/x-python",
   "name": "python",
   "nbconvert_exporter": "python",
   "pygments_lexer": "ipython3",
   "version": "3.9.12"
  }
 },
 "nbformat": 4,
 "nbformat_minor": 5
}
