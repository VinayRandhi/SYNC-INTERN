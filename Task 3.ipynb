{
 "cells": [
  {
   "cell_type": "markdown",
   "id": "d5144bf4",
   "metadata": {},
   "source": [
    "## Task 3"
   ]
  },
  {
   "cell_type": "markdown",
   "id": "450046a3",
   "metadata": {},
   "source": [
    "You must have used various online URL shortening\n",
    "services and they all are doing a great job as well!\n",
    "Even Google forms also use shorten URLs for ease\n",
    "of use. So it’s a widely used service on the\n",
    "Internet.\n",
    "Have you ever thought about or tried to shorten\n",
    "the length of the URL? Hopefully, there are plenty\n",
    "of libraries and APIs available in the Python\n",
    "programming language to help us do the same\n",
    "using programming"
   ]
  },
  {
   "cell_type": "code",
   "execution_count": null,
   "id": "5bc8dda1",
   "metadata": {},
   "outputs": [],
   "source": [
    "#Importing required libraries\n",
    "\n",
    "import pyshorteners    \n",
    "type_tiny = pyshorteners.Shortener()"
   ]
  },
  {
   "cell_type": "code",
   "execution_count": null,
   "id": "925a862e",
   "metadata": {},
   "outputs": [],
   "source": [
    "url = input(\"Enter the URL to shorten: \")  #URL input\n",
    "\n",
    "short_url = type_tiny.tinyurl.short(url)   #Function for URL shortner\n",
    " \n",
    "print(\"The Shortened URL is: \" + short_url)#Printing shortened URL"
   ]
  }
 ],
 "metadata": {
  "kernelspec": {
   "display_name": "Python 3 (ipykernel)",
   "language": "python",
   "name": "python3"
  },
  "language_info": {
   "codemirror_mode": {
    "name": "ipython",
    "version": 3
   },
   "file_extension": ".py",
   "mimetype": "text/x-python",
   "name": "python",
   "nbconvert_exporter": "python",
   "pygments_lexer": "ipython3",
   "version": "3.9.12"
  }
 },
 "nbformat": 4,
 "nbformat_minor": 5
}
